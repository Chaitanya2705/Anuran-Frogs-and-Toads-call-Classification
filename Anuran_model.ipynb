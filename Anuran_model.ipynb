{
 "cells": [
  {
   "cell_type": "code",
   "execution_count": 1,
   "metadata": {},
   "outputs": [],
   "source": [
    "#Part i\n",
    "\n",
    "import pandas as pd\n",
    "data=pd.read_csv(\"Frogs_MFCCs.csv\")\n",
    "# Split the data in 70:30 train:test split\n",
    "from sklearn.model_selection import train_test_split\n",
    "X_train, X_test, y_train, y_test = train_test_split(data.iloc[:, 0:22], data.iloc[:,22:25], test_size=0.3, random_state=1)"
   ]
  },
  {
   "cell_type": "code",
   "execution_count": 2,
   "metadata": {},
   "outputs": [
    {
     "name": "stdout",
     "output_type": "stream",
     "text": [
      "Best C for label1 1000.0\n",
      "Best C for label2 100.0\n",
      "Best C for label3 1000.0\n"
     ]
    }
   ],
   "source": [
    "# Part ii\n",
    "\n",
    "import numpy as np\n",
    "from sklearn import svm\n",
    "from sklearn.svm import SVC\n",
    "from sklearn.model_selection import cross_val_score\n",
    "#le_fam = preprocessing.LabelEncoder()\n",
    "#le_gen = preprocessing.LabelEncoder()\n",
    "#le_spe = preprocessing.LabelEncoder()\n",
    "#le_fam.fit(data.iloc[:,22])\n",
    "#le_gen.fit(data.iloc[:,23])\n",
    "#le_spe.fit(data.iloc[:,24])\n",
    "#ytrain_1=le_fam.transform(y_train.iloc[:,0])\n",
    "#ytrain_2=le_gen.transform(y_train.iloc[:,1])\n",
    "#ytrain_3=le_spe.transform(y_train.iloc[:,2])\n",
    "scores_1=[]\n",
    "scores_2=[]\n",
    "scores_3=[]\n",
    "g_best=0.7       #Here, the best gamma value is found out by running this code over the interval (o.1 ,0.1,1.1) and checking the accuracy for each instance. We find that at 0.7, it is the highest\n",
    "C_range = 10. ** np.arange(-3, 4)\n",
    "sig_range=range(1,20,1)\n",
    "\n",
    "for x in C_range:\n",
    "    scores_1.append(cross_val_score(svm.SVC(C=x,kernel='rbf',gamma=g_best,decision_function_shape='ovr'),X_train,y_train.iloc[:,0],cv=10).mean())\n",
    "    scores_2.append(cross_val_score(svm.SVC(C=x,kernel='rbf',gamma=g_best,decision_function_shape='ovr'),X_train,y_train.iloc[:,1],cv=10).mean())\n",
    "    scores_3.append(cross_val_score(svm.SVC(C=x,kernel='rbf',gamma=g_best,decision_function_shape='ovr'),X_train,y_train.iloc[:,2],cv=10).mean())\n",
    "\n",
    "    \n",
    "C_1=C_range[np.argmax([np.max(x) for x in scores_1])]\n",
    "C_2=C_range[np.argmax([np.max(x) for x in scores_2])]\n",
    "C_3=C_range[np.argmax([np.max(x) for x in scores_3])]\n",
    "\n",
    "print(\"Best C for label1\",C_1)\n",
    "print(\"Best C for label2\",C_2)\n",
    "print(\"Best C for label3\",C_3)"
   ]
  },
  {
   "cell_type": "code",
   "execution_count": 3,
   "metadata": {},
   "outputs": [
    {
     "name": "stdout",
     "output_type": "stream",
     "text": [
      "Hamming loss 1 0.010653080129689671\n",
      "Exact Match 1 0.9893469198703103\n"
     ]
    }
   ],
   "source": [
    "from sklearn.metrics import accuracy_score,hamming_loss\n",
    "clf_1=svm.SVC(C=C_1,gamma=g_best,decision_function_shape='ovr')\n",
    "clf_1=clf_1.fit(X_train,y_train.iloc[:,0])\n",
    "y_pred_1=clf_1.predict(X_test)\n",
    "hm_loss_1=hamming_loss(y_test.iloc[:,0],y_pred_1)\n",
    "ex_match_1=accuracy_score(y_test.iloc[:,0],y_pred_1)\n",
    "print(\"Hamming loss 1\",hm_loss_1)\n",
    "print(\"Exact Match 1\",ex_match_1)"
   ]
  },
  {
   "cell_type": "code",
   "execution_count": 4,
   "metadata": {},
   "outputs": [
    {
     "name": "stdout",
     "output_type": "stream",
     "text": [
      "Hamming loss 2 0.015284854099119963\n",
      "Exact Match 2 0.98471514590088\n"
     ]
    }
   ],
   "source": [
    "clf_2=svm.SVC(C=C_2,gamma=g_best,decision_function_shape='ovr')\n",
    "clf_2=clf_2.fit(X_train,y_train.iloc[:,1])\n",
    "y_pred_2=clf_2.predict(X_test)\n",
    "hm_loss_2=hamming_loss(y_test.iloc[:,1],y_pred_2)\n",
    "ex_match_2=accuracy_score(y_test.iloc[:,1],y_pred_2)\n",
    "print(\"Hamming loss 2\",hm_loss_2)\n",
    "print(\"Exact Match 2\",ex_match_2)"
   ]
  },
  {
   "cell_type": "code",
   "execution_count": 5,
   "metadata": {},
   "outputs": [
    {
     "name": "stdout",
     "output_type": "stream",
     "text": [
      "Hamming loss for label 3 0.014358499305233904\n",
      "Exact Match for label 3 0.9856415006947661\n"
     ]
    }
   ],
   "source": [
    "clf_3=svm.SVC(C=C_3,gamma=g_best,decision_function_shape='ovr')\n",
    "clf_3=clf_3.fit(X_train,y_train.iloc[:,2])\n",
    "y_pred_3=clf_3.predict(X_test)\n",
    "hm_loss_3=hamming_loss(y_test.iloc[:,2],y_pred_3)\n",
    "ex_match_3=accuracy_score(y_test.iloc[:,2],y_pred_3)\n",
    "print(\"Hamming loss for label 3\",hm_loss_3)\n",
    "print(\"Exact Match for label 3\",ex_match_3)"
   ]
  },
  {
   "cell_type": "code",
   "execution_count": 6,
   "metadata": {},
   "outputs": [
    {
     "name": "stdout",
     "output_type": "stream",
     "text": [
      "Overall Hamming loss is 0.013432144511347846\n",
      "Exact Match score is 0.9805465493283928\n"
     ]
    }
   ],
   "source": [
    "y_pred= np.concatenate((y_pred_1.reshape(-1,1),y_pred_2.reshape(-1,1),y_pred_3.reshape(-1,1)),axis=1)\n",
    "y_real= np.concatenate((np.array(y_test.iloc[:,0]).reshape(-1,1),np.array(y_test.iloc[:,1]).reshape(-1,1),np.array(y_test.iloc[:,2]).reshape(-1,1)),axis=1)\n",
    "\n",
    "HM= np.sum(np.not_equal(y_real, y_pred))/float(y_real.size)\n",
    "print(\"Overall Hamming loss is\",HM)\n",
    "\n",
    "val=0\n",
    "l=len(y_pred)\n",
    "for i in range(0,l):\n",
    "    if(y_pred_1[i]==y_test.iloc[i,0] and y_pred_2[i]==y_test.iloc[i,1] and y_pred_3[i]==y_test.iloc[i,2]):\n",
    "        val=val+1\n",
    "val=val/l\n",
    "print(\"Exact Match score is\",val)"
   ]
  },
  {
   "cell_type": "code",
   "execution_count": 7,
   "metadata": {},
   "outputs": [
    {
     "name": "stdout",
     "output_type": "stream",
     "text": [
      "Best C for label1 10.0\n",
      "Best C for label2 100.0\n",
      "Best C for label3 10.0\n"
     ]
    }
   ],
   "source": [
    "#Part iii\n",
    "\n",
    "from sklearn.svm import LinearSVC\n",
    "scores_1=[]\n",
    "scores_2=[]\n",
    "scores_3=[]\n",
    "C_range = 10. ** np.arange(-3, 4)\n",
    "\n",
    "for x in C_range:\n",
    "    clf = LinearSVC(C=x,penalty='l1',dual=False)\n",
    "    scores_1.append(cross_val_score(clf,X_train,y_train.iloc[:,0],cv=10).mean())\n",
    "    scores_2.append(cross_val_score(clf,X_train,y_train.iloc[:,1],cv=10).mean())\n",
    "    scores_3.append(cross_val_score(clf,X_train,y_train.iloc[:,2],cv=10).mean())\n",
    "\n",
    "    \n",
    "C_1=C_range[np.argmax([np.max(x) for x in scores_1])]\n",
    "C_2=C_range[np.argmax([np.max(x) for x in scores_2])]\n",
    "C_3=C_range[np.argmax([np.max(x) for x in scores_3])]\n",
    "\n",
    "print(\"Best C for label1\",C_1)\n",
    "print(\"Best C for label2\",C_2)\n",
    "print(\"Best C for label3\",C_3)\n"
   ]
  },
  {
   "cell_type": "code",
   "execution_count": 8,
   "metadata": {},
   "outputs": [
    {
     "name": "stdout",
     "output_type": "stream",
     "text": [
      "Hamming loss 1 0.06577119036591014\n",
      "Exact Match 1 0.9342288096340898\n"
     ]
    }
   ],
   "source": [
    "clf_1=LinearSVC(C=C_1,penalty='l1',dual=False)\n",
    "clf_1=clf_1.fit(X_train,y_train.iloc[:,0])\n",
    "y_pred_1=clf_1.predict(X_test)\n",
    "hm_loss_1=hamming_loss(y_test.iloc[:,0],y_pred_1)\n",
    "ex_match_1=accuracy_score(y_test.iloc[:,0],y_pred_1)\n",
    "print(\"Hamming loss 1\",hm_loss_1)\n",
    "print(\"Exact Match 1\",ex_match_1)\n"
   ]
  },
  {
   "cell_type": "code",
   "execution_count": 9,
   "metadata": {},
   "outputs": [
    {
     "name": "stdout",
     "output_type": "stream",
     "text": [
      "Hamming loss 2 0.05465493283927744\n",
      "Exact Match 2 0.9453450671607225\n"
     ]
    }
   ],
   "source": [
    "clf_2=LinearSVC(C=C_2,penalty='l1',dual=False)\n",
    "clf_2=clf_2.fit(X_train,y_train.iloc[:,1])\n",
    "y_pred_2=clf_2.predict(X_test)\n",
    "hm_loss_2=hamming_loss(y_test.iloc[:,1],y_pred_2)\n",
    "ex_match_2=accuracy_score(y_test.iloc[:,1],y_pred_2)\n",
    "print(\"Hamming loss 2\",hm_loss_2)\n",
    "print(\"Exact Match 2\",ex_match_2)"
   ]
  },
  {
   "cell_type": "code",
   "execution_count": 10,
   "metadata": {},
   "outputs": [
    {
     "name": "stdout",
     "output_type": "stream",
     "text": [
      "Hamming loss for label 3 0.04492820750347383\n",
      "Exact Match for label 3 0.9550717924965262\n"
     ]
    }
   ],
   "source": [
    "\n",
    "clf_3=LinearSVC(C=C_3,penalty='l1',dual=False)\n",
    "clf_3=clf_3.fit(X_train,y_train.iloc[:,2])\n",
    "y_pred_3=clf_3.predict(X_test)\n",
    "hm_loss_3=hamming_loss(y_test.iloc[:,2],y_pred_3)\n",
    "ex_match_3=accuracy_score(y_test.iloc[:,2],y_pred_3)\n",
    "print(\"Hamming loss for label 3\",hm_loss_3)\n",
    "print(\"Exact Match for label 3\",ex_match_3)"
   ]
  },
  {
   "cell_type": "code",
   "execution_count": 11,
   "metadata": {},
   "outputs": [
    {
     "name": "stdout",
     "output_type": "stream",
     "text": [
      "Overall Hamming loss is 0.05511811023622047\n",
      "Exact Match score is 0.9124594719777674\n"
     ]
    }
   ],
   "source": [
    "y_pred= np.concatenate((y_pred_1.reshape(-1,1),y_pred_2.reshape(-1,1),y_pred_3.reshape(-1,1)),axis=1)\n",
    "y_real= np.concatenate((np.array(y_test.iloc[:,0]).reshape(-1,1),np.array(y_test.iloc[:,1]).reshape(-1,1),np.array(y_test.iloc[:,2]).reshape(-1,1)),axis=1)\n",
    "\n",
    "HM= np.sum(np.not_equal(y_real, y_pred))/float(y_real.size)\n",
    "print(\"Overall Hamming loss is\",HM)\n",
    "\n",
    "val=0\n",
    "l=len(y_pred)\n",
    "for i in range(0,l):\n",
    "    if(y_pred_1[i]==y_test.iloc[i,0] and y_pred_2[i]==y_test.iloc[i,1] and y_pred_3[i]==y_test.iloc[i,2]):\n",
    "        val=val+1\n",
    "val=val/l\n",
    "print(\"Exact Match score is\",val)\n"
   ]
  },
  {
   "cell_type": "code",
   "execution_count": 13,
   "metadata": {},
   "outputs": [
    {
     "name": "stdout",
     "output_type": "stream",
     "text": [
      "10.0\n",
      "100.0\n",
      "1000.0\n"
     ]
    }
   ],
   "source": [
    "#Part iv\n",
    "\n",
    "from imblearn.over_sampling import SMOTE \n",
    "sm=SMOTE(kind='svm',k_neighbors=5)\n",
    "Xt1,yt1=sm.fit_sample(X_train,y_train.iloc[:,0])\n",
    "Xt2,yt2=sm.fit_sample(X_train,y_train.iloc[:,1])\n",
    "Xt3,yt3=sm.fit_sample(X_train,y_train.iloc[:,2])\n",
    "\n",
    "\n",
    "scores_1=[]\n",
    "scores_2=[]\n",
    "scores_3=[]\n",
    "C_range = 10. ** np.arange(-3, 4)\n",
    "\n",
    "for x in C_range:\n",
    "    clf = LinearSVC(C=x,penalty='l1',dual=False)\n",
    "    scores_1.append(cross_val_score(clf,Xt1,yt1,cv=10).mean())\n",
    "    scores_2.append(cross_val_score(clf,Xt2,yt2,cv=10).mean())\n",
    "    scores_3.append(cross_val_score(clf,Xt3,yt3,cv=10).mean())\n",
    "\n",
    "    \n",
    "C_1=C_range[np.argmax([np.max(x) for x in scores_1])]\n",
    "C_2=C_range[np.argmax([np.max(x) for x in scores_2])]\n",
    "C_3=C_range[np.argmax([np.max(x) for x in scores_3])]\n",
    "\n",
    "\n",
    "print(C_1)\n",
    "print(C_2)\n",
    "print(C_3)"
   ]
  },
  {
   "cell_type": "code",
   "execution_count": 18,
   "metadata": {},
   "outputs": [],
   "source": [
    "clf_1=LinearSVC(C=C_1,penalty='l1',dual=False)\n",
    "clf_1=clf_1.fit(Xt1,yt1)\n",
    "y_pred_1=clf_1.predict(X_test)"
   ]
  },
  {
   "cell_type": "code",
   "execution_count": 19,
   "metadata": {},
   "outputs": [],
   "source": [
    "clf_2=LinearSVC(C=C_2,penalty='l1',dual=False)\n",
    "clf_2=clf_2.fit(Xt2,yt2)\n",
    "y_pred_2=clf_2.predict(X_test)"
   ]
  },
  {
   "cell_type": "code",
   "execution_count": 20,
   "metadata": {},
   "outputs": [],
   "source": [
    "clf_3=LinearSVC(C=C_3,penalty='l1',dual=False)\n",
    "clf_3=clf_3.fit(Xt3,yt3)\n",
    "y_pred_3=clf_3.predict(X_test)"
   ]
  },
  {
   "cell_type": "code",
   "execution_count": 24,
   "metadata": {},
   "outputs": [
    {
     "name": "stdout",
     "output_type": "stream",
     "text": [
      "Overall Hamming loss is 0.09109155473212907\n",
      "Exact Match score is 0.8300138953219083\n"
     ]
    }
   ],
   "source": [
    "y_pred= np.concatenate((y_pred_1.reshape(-1,1),y_pred_2.reshape(-1,1),y_pred_3.reshape(-1,1)),axis=1)\n",
    "y_real= np.concatenate((np.array(y_test.iloc[:,0]).reshape(-1,1),np.array(y_test.iloc[:,1]).reshape(-1,1),np.array(y_test.iloc[:,2]).reshape(-1,1)),axis=1)\n",
    "\n",
    "\n",
    "HM= np.sum(np.not_equal(y_real, y_pred))/float(y_real.size)\n",
    "print(\"Overall Hamming loss is\",HM)\n",
    "\n",
    "val=0\n",
    "l=len(y_pred)\n",
    "for i in range(0,l):\n",
    "    if(y_pred_1[i]==y_test.iloc[i,0] and y_pred_2[i]==y_test.iloc[i,1] and y_pred_3[i]==y_test.iloc[i,2]):\n",
    "        val=val+1\n",
    "val=val/l\n",
    "print(\"Exact Match score is\",val)"
   ]
  },
  {
   "cell_type": "code",
   "execution_count": null,
   "metadata": {},
   "outputs": [],
   "source": []
  }
 ],
 "metadata": {
  "kernelspec": {
   "display_name": "Python 3",
   "language": "python",
   "name": "python3"
  },
  "language_info": {
   "codemirror_mode": {
    "name": "ipython",
    "version": 3
   },
   "file_extension": ".py",
   "mimetype": "text/x-python",
   "name": "python",
   "nbconvert_exporter": "python",
   "pygments_lexer": "ipython3",
   "version": "3.6.5"
  }
 },
 "nbformat": 4,
 "nbformat_minor": 2
}
